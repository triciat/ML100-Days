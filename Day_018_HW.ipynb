{
  "nbformat": 4,
  "nbformat_minor": 0,
  "metadata": {
    "colab": {
      "name": "Day_018_HW.ipynb",
      "version": "0.3.2",
      "provenance": [],
      "toc_visible": true,
      "include_colab_link": true
    },
    "language_info": {
      "codemirror_mode": {
        "name": "ipython",
        "version": 3
      },
      "file_extension": ".py",
      "mimetype": "text/x-python",
      "name": "python",
      "nbconvert_exporter": "python",
      "pygments_lexer": "ipython3",
      "version": "3.6.6"
    },
    "kernelspec": {
      "display_name": "Python 3",
      "language": "python",
      "name": "python3"
    }
  },
  "cells": [
    {
      "cell_type": "markdown",
      "metadata": {
        "id": "view-in-github",
        "colab_type": "text"
      },
      "source": [
        "<a href=\"https://colab.research.google.com/github/triciat/ML100-Days/blob/master/Day_018_HW.ipynb\" target=\"_parent\"><img src=\"https://colab.research.google.com/assets/colab-badge.svg\" alt=\"Open In Colab\"/></a>"
      ]
    },
    {
      "cell_type": "markdown",
      "metadata": {
        "collapsed": true,
        "id": "ZYKGdr2eU9yF",
        "colab_type": "text"
      },
      "source": [
        "# 作業 : (Kaggle)鐵達尼生存預測"
      ]
    },
    {
      "cell_type": "code",
      "metadata": {
        "id": "VSyo-nYNV4NQ",
        "colab_type": "code",
        "colab": {
          "base_uri": "https://localhost:8080/",
          "height": 35
        },
        "outputId": "bcdd9c85-901d-4b08-e2ac-31b36c70f1e6"
      },
      "source": [
        "import requests\n",
        "\n",
        "url = 'http://ai100.cupoy.com/file-download/part02/titanic_train.csv'\n",
        "r = requests.get(url, allow_redirects=True)\n",
        "open('titanic_train.csv', 'wb').write(r.content)\n",
        "\n",
        "\n",
        "url = 'http://ai100.cupoy.com/file-download/part02/titanic_test.csv'\n",
        "r = requests.get(url, allow_redirects=True)\n",
        "open('titanic_test.csv', 'wb').write(r.content)"
      ],
      "execution_count": 4,
      "outputs": [
        {
          "output_type": "execute_result",
          "data": {
            "text/plain": [
              "28210"
            ]
          },
          "metadata": {
            "tags": []
          },
          "execution_count": 4
        }
      ]
    },
    {
      "cell_type": "code",
      "metadata": {
        "id": "ehtbwjniU9yK",
        "colab_type": "code",
        "colab": {
          "base_uri": "https://localhost:8080/",
          "height": 35
        },
        "outputId": "84cbcd68-cba2-4fdc-b320-2770aec3b90b"
      },
      "source": [
        "# 載入套件與資料\n",
        "import pandas as pd\n",
        "import numpy as np\n",
        "\n",
        "data_path = './'\n",
        "df_train = pd.read_csv(data_path + 'titanic_train.csv')\n",
        "df_test = pd.read_csv(data_path + 'titanic_test.csv')\n",
        "df_train.shape"
      ],
      "execution_count": 6,
      "outputs": [
        {
          "output_type": "execute_result",
          "data": {
            "text/plain": [
              "(891, 12)"
            ]
          },
          "metadata": {
            "tags": []
          },
          "execution_count": 6
        }
      ]
    },
    {
      "cell_type": "code",
      "metadata": {
        "id": "tKvciWgHU9yS",
        "colab_type": "code",
        "colab": {
          "base_uri": "https://localhost:8080/",
          "height": 254
        },
        "outputId": "8041235b-789d-40ff-ba2f-6541175ac087"
      },
      "source": [
        "# 重組資料成為訓練 / 預測用格式\n",
        "train_Y = df_train['Survived']\n",
        "ids = df_test['PassengerId']\n",
        "df_train = df_train.drop(['PassengerId', 'Survived'] , axis=1)\n",
        "df_test = df_test.drop(['PassengerId'] , axis=1)\n",
        "df = pd.concat([df_train,df_test])\n",
        "df.head()"
      ],
      "execution_count": 7,
      "outputs": [
        {
          "output_type": "execute_result",
          "data": {
            "text/html": [
              "<div>\n",
              "<style scoped>\n",
              "    .dataframe tbody tr th:only-of-type {\n",
              "        vertical-align: middle;\n",
              "    }\n",
              "\n",
              "    .dataframe tbody tr th {\n",
              "        vertical-align: top;\n",
              "    }\n",
              "\n",
              "    .dataframe thead th {\n",
              "        text-align: right;\n",
              "    }\n",
              "</style>\n",
              "<table border=\"1\" class=\"dataframe\">\n",
              "  <thead>\n",
              "    <tr style=\"text-align: right;\">\n",
              "      <th></th>\n",
              "      <th>Pclass</th>\n",
              "      <th>Name</th>\n",
              "      <th>Sex</th>\n",
              "      <th>Age</th>\n",
              "      <th>SibSp</th>\n",
              "      <th>Parch</th>\n",
              "      <th>Ticket</th>\n",
              "      <th>Fare</th>\n",
              "      <th>Cabin</th>\n",
              "      <th>Embarked</th>\n",
              "    </tr>\n",
              "  </thead>\n",
              "  <tbody>\n",
              "    <tr>\n",
              "      <th>0</th>\n",
              "      <td>3</td>\n",
              "      <td>Braund, Mr. Owen Harris</td>\n",
              "      <td>male</td>\n",
              "      <td>22.0</td>\n",
              "      <td>1</td>\n",
              "      <td>0</td>\n",
              "      <td>A/5 21171</td>\n",
              "      <td>7.2500</td>\n",
              "      <td>NaN</td>\n",
              "      <td>S</td>\n",
              "    </tr>\n",
              "    <tr>\n",
              "      <th>1</th>\n",
              "      <td>1</td>\n",
              "      <td>Cumings, Mrs. John Bradley (Florence Briggs Th...</td>\n",
              "      <td>female</td>\n",
              "      <td>38.0</td>\n",
              "      <td>1</td>\n",
              "      <td>0</td>\n",
              "      <td>PC 17599</td>\n",
              "      <td>71.2833</td>\n",
              "      <td>C85</td>\n",
              "      <td>C</td>\n",
              "    </tr>\n",
              "    <tr>\n",
              "      <th>2</th>\n",
              "      <td>3</td>\n",
              "      <td>Heikkinen, Miss. Laina</td>\n",
              "      <td>female</td>\n",
              "      <td>26.0</td>\n",
              "      <td>0</td>\n",
              "      <td>0</td>\n",
              "      <td>STON/O2. 3101282</td>\n",
              "      <td>7.9250</td>\n",
              "      <td>NaN</td>\n",
              "      <td>S</td>\n",
              "    </tr>\n",
              "    <tr>\n",
              "      <th>3</th>\n",
              "      <td>1</td>\n",
              "      <td>Futrelle, Mrs. Jacques Heath (Lily May Peel)</td>\n",
              "      <td>female</td>\n",
              "      <td>35.0</td>\n",
              "      <td>1</td>\n",
              "      <td>0</td>\n",
              "      <td>113803</td>\n",
              "      <td>53.1000</td>\n",
              "      <td>C123</td>\n",
              "      <td>S</td>\n",
              "    </tr>\n",
              "    <tr>\n",
              "      <th>4</th>\n",
              "      <td>3</td>\n",
              "      <td>Allen, Mr. William Henry</td>\n",
              "      <td>male</td>\n",
              "      <td>35.0</td>\n",
              "      <td>0</td>\n",
              "      <td>0</td>\n",
              "      <td>373450</td>\n",
              "      <td>8.0500</td>\n",
              "      <td>NaN</td>\n",
              "      <td>S</td>\n",
              "    </tr>\n",
              "  </tbody>\n",
              "</table>\n",
              "</div>"
            ],
            "text/plain": [
              "   Pclass                                               Name  ... Cabin  Embarked\n",
              "0       3                            Braund, Mr. Owen Harris  ...   NaN         S\n",
              "1       1  Cumings, Mrs. John Bradley (Florence Briggs Th...  ...   C85         C\n",
              "2       3                             Heikkinen, Miss. Laina  ...   NaN         S\n",
              "3       1       Futrelle, Mrs. Jacques Heath (Lily May Peel)  ...  C123         S\n",
              "4       3                           Allen, Mr. William Henry  ...   NaN         S\n",
              "\n",
              "[5 rows x 10 columns]"
            ]
          },
          "metadata": {
            "tags": []
          },
          "execution_count": 7
        }
      ]
    },
    {
      "cell_type": "code",
      "metadata": {
        "id": "8E856Dk7U9ya",
        "colab_type": "code",
        "colab": {
          "base_uri": "https://localhost:8080/",
          "height": 141
        },
        "outputId": "f0f99b10-7820-49ca-a41d-846a240fcd30"
      },
      "source": [
        "# 秀出資料欄位的類型與數量\n",
        "dtype_df = df.dtypes.reset_index()\n",
        "dtype_df.columns = [\"Count\", \"Column Type\"]\n",
        "dtype_df = dtype_df.groupby(\"Column Type\").aggregate('count').reset_index()\n",
        "dtype_df"
      ],
      "execution_count": 8,
      "outputs": [
        {
          "output_type": "execute_result",
          "data": {
            "text/html": [
              "<div>\n",
              "<style scoped>\n",
              "    .dataframe tbody tr th:only-of-type {\n",
              "        vertical-align: middle;\n",
              "    }\n",
              "\n",
              "    .dataframe tbody tr th {\n",
              "        vertical-align: top;\n",
              "    }\n",
              "\n",
              "    .dataframe thead th {\n",
              "        text-align: right;\n",
              "    }\n",
              "</style>\n",
              "<table border=\"1\" class=\"dataframe\">\n",
              "  <thead>\n",
              "    <tr style=\"text-align: right;\">\n",
              "      <th></th>\n",
              "      <th>Column Type</th>\n",
              "      <th>Count</th>\n",
              "    </tr>\n",
              "  </thead>\n",
              "  <tbody>\n",
              "    <tr>\n",
              "      <th>0</th>\n",
              "      <td>int64</td>\n",
              "      <td>3</td>\n",
              "    </tr>\n",
              "    <tr>\n",
              "      <th>1</th>\n",
              "      <td>float64</td>\n",
              "      <td>2</td>\n",
              "    </tr>\n",
              "    <tr>\n",
              "      <th>2</th>\n",
              "      <td>object</td>\n",
              "      <td>5</td>\n",
              "    </tr>\n",
              "  </tbody>\n",
              "</table>\n",
              "</div>"
            ],
            "text/plain": [
              "  Column Type  Count\n",
              "0       int64      3\n",
              "1     float64      2\n",
              "2      object      5"
            ]
          },
          "metadata": {
            "tags": []
          },
          "execution_count": 8
        }
      ]
    },
    {
      "cell_type": "code",
      "metadata": {
        "id": "TdmbWm0kU9yg",
        "colab_type": "code",
        "colab": {
          "base_uri": "https://localhost:8080/",
          "height": 104
        },
        "outputId": "88620614-33b0-46bf-c76c-7a814f409798"
      },
      "source": [
        "#確定只有 int64, float64, object 三種類型後, 分別將欄位名稱存於三個 list 中\n",
        "int_features = []\n",
        "float_features = []\n",
        "object_features = []\n",
        "for dtype, feature in zip(df.dtypes, df.columns):\n",
        "    if dtype == 'float64':\n",
        "        float_features.append(feature)\n",
        "    elif dtype == 'int64':\n",
        "        int_features.append(feature)\n",
        "    else:\n",
        "        object_features.append(feature)\n",
        "print(f'{len(int_features)} Integer Features : {int_features}\\n')\n",
        "print(f'{len(float_features)} Float Features : {float_features}\\n')\n",
        "print(f'{len(object_features)} Object Features : {object_features}')"
      ],
      "execution_count": 9,
      "outputs": [
        {
          "output_type": "stream",
          "text": [
            "3 Integer Features : ['Pclass', 'SibSp', 'Parch']\n",
            "\n",
            "2 Float Features : ['Age', 'Fare']\n",
            "\n",
            "5 Object Features : ['Name', 'Sex', 'Ticket', 'Cabin', 'Embarked']\n"
          ],
          "name": "stdout"
        }
      ]
    },
    {
      "cell_type": "markdown",
      "metadata": {
        "collapsed": true,
        "id": "uiTS7cqqU9yk",
        "colab_type": "text"
      },
      "source": [
        "# 作業1 \n",
        "* 試著執行作業程式，觀察三種類型 (int / float / object) 的欄位分別進行( 平均 mean / 最大值 Max / 相異值 nunique )  \n",
        "中的九次操作會有那些問題? 並試著解釋那些發生Error的程式區塊的原因?  "
      ]
    },
    {
      "cell_type": "code",
      "metadata": {
        "id": "78sWJFp6U9ym",
        "colab_type": "code",
        "colab": {
          "base_uri": "https://localhost:8080/",
          "height": 1000
        },
        "outputId": "dbb1d912-b06b-4bbf-f9e1-a4f0e0064a17"
      },
      "source": [
        "feature_labels = ['Int', 'Float', 'Object']\n",
        "features = [int_features, float_features, object_features]\n",
        "for label, feature in zip(feature_labels, features):\n",
        "    print(f'=== {label} ===')\n",
        "    print(f'features: {feature}')\n",
        "    \n",
        "    print('\\n--- mean ---')\n",
        "    print(df[feature].mean())\n",
        "    print('\\n--- max ---')\n",
        "    print(df[feature].max())\n",
        "    print('\\n--- nunique ---')\n",
        "    print(df[feature].nunique())\n",
        "    print('\\n')"
      ],
      "execution_count": 10,
      "outputs": [
        {
          "output_type": "stream",
          "text": [
            "=== Int ===\n",
            "features: ['Pclass', 'SibSp', 'Parch']\n",
            "\n",
            "--- mean ---\n",
            "Pclass    2.294882\n",
            "SibSp     0.498854\n",
            "Parch     0.385027\n",
            "dtype: float64\n",
            "\n",
            "--- max ---\n",
            "Pclass    3\n",
            "SibSp     8\n",
            "Parch     9\n",
            "dtype: int64\n",
            "\n",
            "--- nunique ---\n",
            "Pclass    3\n",
            "SibSp     7\n",
            "Parch     8\n",
            "dtype: int64\n",
            "\n",
            "\n",
            "=== Float ===\n",
            "features: ['Age', 'Fare']\n",
            "\n",
            "--- mean ---\n",
            "Age     29.881138\n",
            "Fare    33.295479\n",
            "dtype: float64\n",
            "\n",
            "--- max ---\n",
            "Age      80.0000\n",
            "Fare    512.3292\n",
            "dtype: float64\n",
            "\n",
            "--- nunique ---\n",
            "Age      98\n",
            "Fare    281\n",
            "dtype: int64\n",
            "\n",
            "\n",
            "=== Object ===\n",
            "features: ['Name', 'Sex', 'Ticket', 'Cabin', 'Embarked']\n",
            "\n",
            "--- mean ---\n",
            "Series([], dtype: float64)\n",
            "\n",
            "--- max ---\n",
            "Name      van Melkebeke, Mr. Philemon\n",
            "Sex                              male\n",
            "Ticket                      WE/P 5735\n",
            "dtype: object\n",
            "\n",
            "--- nunique ---\n",
            "Name        1307\n",
            "Sex            2\n",
            "Ticket       929\n",
            "Cabin        186\n",
            "Embarked       3\n",
            "dtype: int64\n",
            "\n",
            "\n"
          ],
          "name": "stdout"
        }
      ]
    },
    {
      "cell_type": "markdown",
      "metadata": {
        "id": "rPeFNnrmU9ys",
        "colab_type": "text"
      },
      "source": [
        "# 作業2\n",
        "* 思考一下，試著舉出今天五種類型以外的一種或多種資料類型，你舉出的新類型是否可以歸在三大類中的某些大類?  \n",
        "所以三大類特徵中，哪一大類處理起來應該最複雜?\n",
        "\n",
        "### 答案\n",
        "\n",
        "圖片、影片，應該可以被歸在類別型。我認為將多媒體資料轉成資料特徵應該頗複雜,，另外還有地理資訊(GIS)的資料也算是multi-dimensional 的複雜性較高的資料。"
      ]
    },
    {
      "cell_type": "code",
      "metadata": {
        "id": "IKlRU7-pU9yu",
        "colab_type": "code",
        "colab": {}
      },
      "source": [
        ""
      ],
      "execution_count": 0,
      "outputs": []
    }
  ]
}