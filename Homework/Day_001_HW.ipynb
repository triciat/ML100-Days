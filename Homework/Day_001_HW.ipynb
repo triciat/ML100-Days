{
 "cells": [
  {
   "cell_type": "markdown",
   "metadata": {},
   "source": [
    "作業1：\n",
    "\n",
    "請上 Kaggle, 在 Competitions 或 Dataset 中找一組競賽或資料並寫下：\n",
    "\n",
    "\n",
    "1. 你選的這組資料為何重要\n",
    "我選了**Human Protein Atlas Image Classification** 這組資料 https://www.kaggle.com/c/human-protein-atlas-image-classification 。\n",
    "這組資料的重要性在於用影像比對人體體內常見而且重要的蛋白質結構，利用模型可已從輸入的蛋白質顯微影像快速辨識protein種類。是一個Classification 的範疇。\n",
    "\n",
    "2. 資料從何而來 (tips: 譬如提供者是誰、以什麼方式蒐集)\n",
    "資料由 **The Human Protein Atlas**提供，這個project是由瑞典的Knutt & Alice Wallenberg Founcation發起，目的是要mapping all human proteins in cells, tissus and organs，他們建立的這個開放的資料庫，讓來自各方有興趣的人都可以利用這些影像進行探索或研究。這些影像是由high-throughput microscopy(高通量螢光顯微影像)的方式蒐集，這個方法可以快速蒐集高解析度的蛋白質影響，加速資料的蒐集。\n",
    "\n",
    "3. 蒐集而來的資料型態為何\n",
    "資料型態為影像，是經過壓縮的 512x512 PNG檔案，一共17GB。原始資料則為2048X2048以及3072X3072的Tiff檔，接近250GB。每個影像會有四個版本，分別透過四個不同顏色的濾鏡拍攝而得(gree, red, blue, yellow)，training data為已標記的資料，標記了27種不同的胞器。\n",
    "\n",
    "4. 這組資料想解決的問題如何評估\n",
    "這組資料將利用已標記的三種濾鏡影像(red, blue, yellow)當作參考，來預測testing data中綠色濾鏡影像的label，模型的Macro F-score高低則為此比賽評估的依據。由於影像是由共軛焦顯微鏡取得，同一個蛋白質會有不同的影像呈現，如何把不同呈現成功辨識出蛋白質種類以及位置，為此比賽的挑戰所在。\n"
   ]
  },
  {
   "cell_type": "markdown",
   "metadata": {},
   "source": [
    "作業2：\n",
    "\n",
    "想像你經營一個自由載客車隊，你希望能透過數據分析以提升業績，請你思考並描述你如何規劃整體的分析/解決方案：\n",
    "\n",
    "1. 核心問題為何 (tips：如何定義 「提升業績 & 你的假設」)\n",
    "提升業績包含兩個面向:提升營業額以及降低成本。車隊的成本大多在油耗以及車子的繞行空轉，利用數據分析可以讓有搭車需求的顧客就近並快速的找到適合的車輛。營業額的提升則是希望能增加顧客數或客單價。短程車子不高，但可以讓顧客選擇此車隊的機率變高，便可提高顧客忠誠度，甚至轉介新客長程的話則可利用優惠或合作方案供顧客選擇。\n",
    "\n",
    "因此，數據分析需要及時的讓「供」與「需」在空間的模型上更有效率的平衡。\n",
    "長期而言可以利用這些數據分析乘客路線以及消費型態，供行銷參考。\n",
    "\n",
    "2. 資料從何而來 (tips：哪些資料可能會對你想問的問題產生影響 & 資料如何蒐集)\n",
    "與Google map合作，除了原本的空間資料已外，還可以加上地區，時間，周邊大眾運輸系統的效應。\n",
    "\n",
    "3. 蒐集而來的資料型態為何\n",
    "GIS類型的spatial-temporal的資料。這些空間資料除了起始點以及路線，還包含每次旅程的時間長短，消費金額，折扣還有消費者基本資料，因此需要空間類型的模型來處理。\n",
    "\n",
    "4. 你要回答的問題，其如何評估 (tips：你的假設如何驗證)\n",
    "可以試跑不同模型的演算法，比較營業額以及空車率等等指標。"
   ]
  },
  {
   "cell_type": "code",
   "execution_count": 4,
   "metadata": {},
   "outputs": [
    {
     "name": "stdout",
     "output_type": "stream",
     "text": [
      "The Mean squared error is 237.689\n"
     ]
    }
   ],
   "source": [
    "#作業3：請點選檢視範例依照 Day_001_example_of_metrics.ipynb 完成 Mean Squared Error 的函式\n",
    "\n",
    "import numpy as np\n",
    "import matplotlib.pyplot as plt\n",
    "\n",
    "w = 3\n",
    "b = 0.5\n",
    "\n",
    "x_lin = np.linspace(0, 100, 101)\n",
    "\n",
    "y = (x_lin + np.random.randn(101) * 5) * w + b\n",
    "\n",
    "y_hat = x_lin * w + b\n",
    "\n",
    "def mean_squared_error(y, yp):\n",
    "    \"\"\"\n",
    "    計算 MAE\n",
    "    Args:\n",
    "        - y: 實際值\n",
    "        - yp: 預測值\n",
    "    Return:\n",
    "        - mse: MAE\n",
    "    \"\"\"\n",
    "    mae = MAE = sum((y - yp)**2) / len(y)\n",
    "    return mae\n",
    "\n",
    "MSE = mean_squared_error (y, y_hat)\n",
    "print(\"The Mean squared error is %.3f\" % (MSE))"
   ]
  }
 ],
 "metadata": {
  "kernelspec": {
   "display_name": "Python 3",
   "language": "python",
   "name": "python3"
  },
  "language_info": {
   "codemirror_mode": {
    "name": "ipython",
    "version": 3
   },
   "file_extension": ".py",
   "mimetype": "text/x-python",
   "name": "python",
   "nbconvert_exporter": "python",
   "pygments_lexer": "ipython3",
   "version": "3.7.0"
  }
 },
 "nbformat": 4,
 "nbformat_minor": 2
}
